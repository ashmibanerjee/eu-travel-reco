{
 "cells": [
  {
   "cell_type": "code",
   "execution_count": 6,
   "id": "e472fdd6-56b7-4173-89bd-1e5ac5db2cbf",
   "metadata": {
    "pycharm": {
     "name": "#%%\n"
    }
   },
   "outputs": [],
   "source": [
    "import pandas as pd\n",
    "from dotenv import load_dotenv\n",
    "import os\n",
    "from transformers import AutoModelForCausalLM, AutoTokenizer"
   ]
  },
  {
   "cell_type": "code",
   "execution_count": 4,
   "id": "db4e3387-5c69-49e1-838b-c0b040f4e7d6",
   "metadata": {
    "pycharm": {
     "name": "#%%\n"
    }
   },
   "outputs": [
    {
     "data": {
      "text/plain": [
       "True"
      ]
     },
     "execution_count": 4,
     "metadata": {},
     "output_type": "execute_result"
    }
   ],
   "source": [
    "load_dotenv()"
   ]
  },
  {
   "cell_type": "code",
   "execution_count": 8,
   "id": "4757e533-5a09-4744-b5a6-c5e57f927160",
   "metadata": {
    "pycharm": {
     "name": "#%%\n"
    }
   },
   "outputs": [],
   "source": [
    "HF_TOKEN = os.environ[\"HF_TOKEN\"]"
   ]
  },
  {
   "cell_type": "code",
   "execution_count": 10,
   "id": "dc5aa236-d7c2-4f0e-86a4-225a35cc962e",
   "metadata": {
    "pycharm": {
     "name": "#%%\n"
    }
   },
   "outputs": [],
   "source": [
    "model_name = \"facebook/opt-350m\"\n",
    "\n",
    "tokenizer = AutoTokenizer.from_pretrained(model_name, token=HF_TOKEN)"
   ]
  },
  {
   "cell_type": "code",
   "execution_count": 37,
   "id": "7883c309-a479-47bd-b472-6c26a1808119",
   "metadata": {
    "pycharm": {
     "name": "#%%\n"
    }
   },
   "outputs": [
    {
     "name": "stdout",
     "output_type": "stream",
     "text": [
      "(5285, 3)\n"
     ]
    },
    {
     "data": {
      "text/html": [
       "<div>\n",
       "<style scoped>\n",
       "    .dataframe tbody tr th:only-of-type {\n",
       "        vertical-align: middle;\n",
       "    }\n",
       "\n",
       "    .dataframe tbody tr th {\n",
       "        vertical-align: top;\n",
       "    }\n",
       "\n",
       "    .dataframe thead th {\n",
       "        text-align: right;\n",
       "    }\n",
       "</style>\n",
       "<table border=\"1\" class=\"dataframe\">\n",
       "  <thead>\n",
       "    <tr style=\"text-align: right;\">\n",
       "      <th></th>\n",
       "      <th>city</th>\n",
       "      <th>prompt</th>\n",
       "      <th>answer</th>\n",
       "    </tr>\n",
       "  </thead>\n",
       "  <tbody>\n",
       "    <tr>\n",
       "      <th>0</th>\n",
       "      <td>Belgrade</td>\n",
       "      <td>What is Belgrade known for?</td>\n",
       "      <td>Belgrade is known for its vibrant nightlife, h...</td>\n",
       "    </tr>\n",
       "    <tr>\n",
       "      <th>1</th>\n",
       "      <td>Belgrade</td>\n",
       "      <td>What is the history of Belgrade?</td>\n",
       "      <td>Belgrade has a long history dating back to the...</td>\n",
       "    </tr>\n",
       "    <tr>\n",
       "      <th>2</th>\n",
       "      <td>Belgrade</td>\n",
       "      <td>What is the climate like in Belgrade?</td>\n",
       "      <td>Belgrade has a temperate continental climate w...</td>\n",
       "    </tr>\n",
       "    <tr>\n",
       "      <th>3</th>\n",
       "      <td>Belgrade</td>\n",
       "      <td>What are the people like in Belgrade?</td>\n",
       "      <td>Belgradians are known for their friendliness a...</td>\n",
       "    </tr>\n",
       "    <tr>\n",
       "      <th>4</th>\n",
       "      <td>Belgrade</td>\n",
       "      <td>How can I get to Belgrade by plane?</td>\n",
       "      <td>Belgrade Nikola Tesla Airport (BEG) is the mai...</td>\n",
       "    </tr>\n",
       "  </tbody>\n",
       "</table>\n",
       "</div>"
      ],
      "text/plain": [
       "       city                                 prompt  \\\n",
       "0  Belgrade            What is Belgrade known for?   \n",
       "1  Belgrade       What is the history of Belgrade?   \n",
       "2  Belgrade  What is the climate like in Belgrade?   \n",
       "3  Belgrade  What are the people like in Belgrade?   \n",
       "4  Belgrade    How can I get to Belgrade by plane?   \n",
       "\n",
       "                                              answer  \n",
       "0  Belgrade is known for its vibrant nightlife, h...  \n",
       "1  Belgrade has a long history dating back to the...  \n",
       "2  Belgrade has a temperate continental climate w...  \n",
       "3  Belgradians are known for their friendliness a...  \n",
       "4  Belgrade Nikola Tesla Airport (BEG) is the mai...  "
      ]
     },
     "execution_count": 37,
     "metadata": {},
     "output_type": "execute_result"
    }
   ],
   "source": [
    "df = pd.read_csv(\"../../../data/europeancities-wikivoyage-tripadvisor/data-sources/wikivoyage/q_a/cities_qa_merged.csv\")\n",
    "print(df.shape)\n",
    "df.head()"
   ]
  },
  {
   "cell_type": "code",
   "execution_count": 29,
   "id": "7d698760-2450-4b34-b76d-337af567ec1b",
   "metadata": {
    "pycharm": {
     "name": "#%%\n"
    }
   },
   "outputs": [],
   "source": [
    "def formatting_prompts_func(example):\n",
    "    output_texts = []\n",
    "    max_length = 0\n",
    "    idx = \"\"\n",
    "    for i, row in example.iterrows():\n",
    "        text = f\"### Question: {example['prompt'][i]} ### Answer: {example['answer'][i]}\"\n",
    "        result = tokenizer(text)\n",
    "        if len(result.input_ids) > max_length:\n",
    "            max_length = len(result.input_ids)\n",
    "            idx = example['prompt'][i]\n",
    "        output_texts.append(text)\n",
    "    return idx, max_length\n"
   ]
  },
  {
   "cell_type": "code",
   "execution_count": 30,
   "id": "5f0140db-ccc3-43d0-9fbe-5d9af595795b",
   "metadata": {
    "pycharm": {
     "name": "#%%\n"
    }
   },
   "outputs": [
    {
     "data": {
      "text/plain": [
       "('What are some things to see in Sarajevo?', 1011)"
      ]
     },
     "execution_count": 30,
     "metadata": {},
     "output_type": "execute_result"
    }
   ],
   "source": [
    "formatting_prompts_func(df)"
   ]
  },
  {
   "cell_type": "code",
   "execution_count": 33,
   "id": "ec245666-eb97-42d1-813d-f53f4bd398c6",
   "metadata": {
    "pycharm": {
     "name": "#%%\n"
    }
   },
   "outputs": [
    {
     "data": {
      "text/plain": [
       "array([\"Some of the top attractions in Sarajevo include:\\n\\n* Baščaršija: The historic district with cobbled streets, mosques, and oriental-style shops.\\n* Sebilj: A wooden fountain in the middle of Pigeon Square.\\n* Sacred Heart Cathedral: The largest Christian cathedral in Bosnia.\\n* Morića Inn: The only preserved Ottoman Inn in Sarajevo.\\n* Clock Tower: The tallest clock tower in Bosnia, dating back to the 17th century.\\n* City Hall: An iconic pseudo-Moorish revival style building.\\n* Avaz Twist Tower: A distinctive 176 m twisted tower.\\n* Tunnel of Hope: A museum built over the tunnel that served as a lifeline to the besieged city during the war.\\n* War Childhood Museum: A museum dedicated to the experience of childhood during the Siege of Sarajevo.\\n* Latin Bridge: The bridge where Archduke Franz Ferdinand was assassinated.\\n* Šeher-Čehajina Bridge: A stone bridge built in the 16th century.\\n* Roman Bridge: A stone bridge crossing the Bosna River.\\n* Goat's Bridge: An architecturally interesting bridge at the historic Eastern entrance into the city.\\n* Vratnik: A fortified district with the Yellow Fortress, White Fortress, and Visegrad Gate.\\n* Martyrs' Memorial Cemetery Kovači: The burial site of Alija Izetbegović, the first president of the independent Republic of Bosnia and Herzegovina.\\n* National Museum: Displays the natural and human history of Bosnia and Herzegovina.\\n* Sarajevo Museum 1878–1918: A museum dedicated to the Austro-Hungarian occupation of Sarajevo.\\n* Svrzo's House: Shows the living conditions of a Muslim family at the end of the 17th century.\\n* Gazi Husrev-Bey's Library Museum: A museum displaying Islamic calligraphy, time-keeping, and everyday objects of Muslim life.\\n* National Gallery: Contains over 6,000 pieces of art, with a focus on works of Bosnian interest.\\n* Museum of Literature & Performing Arts: A museum dedicated to the importance of literature and expressive arts in Sarajevo.\\n* Modern Art Museum (Ars Aevi): A museum for contemporary art.\\n* Despić House: A dependency of the Sarajevo City Museum, constructed in several stages during different periods, the oldest parts dating back to the 17th century.\\n* Bosniak Institute: A cultural centre focusing on Bosniak culture.\\n* Presidency Building: The official residence of the Presidency of Bosnia and Herzegovina.\\n* The Parliamentary Assembly Building: The building of the Bosnian Parliamentary Assembly.\\n* Konak: A former Ottoman governors’ residence.\\n* Central Post Office: An Austro-Hungarian era post office.\\n* Gazi Husrev-beg's Mosque: A beautiful medieval mosque at the heart of Old Town.\\n* Hanikah: A Sufi lodge or centre for the study of Islamic mysticism.\\n* Emperor's Mosque: The oldest mosque in Sarajevo.\\n* Ali Pasha Mosque: A mosque constructed in the 16th century.\\n* Ferhadija Mosque: A mosque named after Ferhad Bey Vukovic Desisalic, a Bosnian Sanyak Bey.\\n* Tomb of the Seven Brothers: A tomb dating back to the founding days of Sarajevo.\\n* Hajji Sinan's Tekke: A tekke built in the 17th century.\\n* St Anthony's Church: A Roman Catholic church in Gothic Revival style.\\n* Franciscan Monastery: A monastery next to the church.\\n* Cathedral Church of the Nativity of the Theotokos: The largest Serbian Orthodox church in Sarajevo.\\n* Old Orthodox Church: A Serbian Orthodox church built in a medieval Serbian-Byzantine architectural style.\\n* Church of St. Joseph: A Roman Catholic church with 3 bells designed by Karel Pařík in a Romanesque Revival style.\\n* Church of the Holy Transfiguration: An Orthodox church built in Byzantine Revival style.\\n* Mausoleum of Gavrilo Princip: The mausoleum of Gavrilo Princip, the assassin of Archduke Franz Ferdinand.\\n* Jewish Museum: Housed in the Old Temple, built in 1581 for the Sephardic settlers.\\n* Ashkenazi Synagogue: The only functioning synagogue in Sarajevo.\\n* Jewish Cemetery: One of the largest Jewish cemeteries in South-East Europe.\"],\n",
       "      dtype=object)"
      ]
     },
     "execution_count": 33,
     "metadata": {},
     "output_type": "execute_result"
    }
   ],
   "source": [
    "df.loc[df['prompt']=='What are some things to see in Sarajevo?'][\"answer\"].values"
   ]
  },
  {
   "cell_type": "code",
   "execution_count": 34,
   "id": "ed39510b-64e3-4368-858e-da46d8412653",
   "metadata": {
    "pycharm": {
     "name": "#%%\n"
    }
   },
   "outputs": [
    {
     "data": {
      "text/plain": [
       "1562    Some of the top attractions in Sarajevo includ...\n",
       "Name: answer, dtype: object"
      ]
     },
     "execution_count": 34,
     "metadata": {},
     "output_type": "execute_result"
    }
   ],
   "source": [
    "df.loc[df['prompt']=='What are some things to see in Sarajevo?'][\"answer\"]"
   ]
  },
  {
   "cell_type": "code",
   "execution_count": 35,
   "id": "1c95f7a7-b5c1-404a-be44-ef01e49e223e",
   "metadata": {
    "pycharm": {
     "name": "#%%\n"
    }
   },
   "outputs": [
    {
     "data": {
      "text/plain": [
       "3887"
      ]
     },
     "execution_count": 35,
     "metadata": {},
     "output_type": "execute_result"
    }
   ],
   "source": [
    "len(df.loc[df['prompt']=='What are some things to see in Sarajevo?'][\"answer\"].values[0])"
   ]
  },
  {
   "cell_type": "code",
   "execution_count": 36,
   "id": "67cbbad2-afc4-411a-9788-626debdd71c0",
   "metadata": {
    "pycharm": {
     "name": "#%%\n"
    }
   },
   "outputs": [
    {
     "data": {
      "text/plain": [
       "(5246, 3)"
      ]
     },
     "execution_count": 36,
     "metadata": {},
     "output_type": "execute_result"
    }
   ],
   "source": [
    "# Assuming df is your DataFrame\n",
    "filtered_df = df[df['answer'].apply(len) < 1000]\n",
    "filtered_df.shape"
   ]
  },
  {
   "cell_type": "code",
   "execution_count": 38,
   "id": "7ecf2bbb-c462-4bb0-bf6f-d5e5d2dc7c5c",
   "metadata": {
    "pycharm": {
     "name": "#%%\n"
    }
   },
   "outputs": [
    {
     "data": {
      "text/html": [
       "<div>\n",
       "<style scoped>\n",
       "    .dataframe tbody tr th:only-of-type {\n",
       "        vertical-align: middle;\n",
       "    }\n",
       "\n",
       "    .dataframe tbody tr th {\n",
       "        vertical-align: top;\n",
       "    }\n",
       "\n",
       "    .dataframe thead th {\n",
       "        text-align: right;\n",
       "    }\n",
       "</style>\n",
       "<table border=\"1\" class=\"dataframe\">\n",
       "  <thead>\n",
       "    <tr style=\"text-align: right;\">\n",
       "      <th></th>\n",
       "      <th>city</th>\n",
       "      <th>prompt</th>\n",
       "      <th>answer</th>\n",
       "    </tr>\n",
       "  </thead>\n",
       "  <tbody>\n",
       "    <tr>\n",
       "      <th>23</th>\n",
       "      <td>Belgrade</td>\n",
       "      <td>What is the history of Belgrade?</td>\n",
       "      <td>Belgrade has a long history dating back to the...</td>\n",
       "    </tr>\n",
       "    <tr>\n",
       "      <th>33</th>\n",
       "      <td>Belgrade</td>\n",
       "      <td>What are the public transportation options in ...</td>\n",
       "      <td>Belgrade has an extensive public transport net...</td>\n",
       "    </tr>\n",
       "    <tr>\n",
       "      <th>35</th>\n",
       "      <td>Belgrade</td>\n",
       "      <td>What are the taxi options in Belgrade?</td>\n",
       "      <td>Taxis are cheap by European standards, though ...</td>\n",
       "    </tr>\n",
       "    <tr>\n",
       "      <th>36</th>\n",
       "      <td>Belgrade</td>\n",
       "      <td>What are some of the things to see in Belgrade?</td>\n",
       "      <td>Belgrade city core is not too big. Everything ...</td>\n",
       "    </tr>\n",
       "    <tr>\n",
       "      <th>38</th>\n",
       "      <td>Belgrade</td>\n",
       "      <td>What are some places to eat in Belgrade?</td>\n",
       "      <td>Belgrade has hundreds of restaurants specializ...</td>\n",
       "    </tr>\n",
       "    <tr>\n",
       "      <th>48</th>\n",
       "      <td>Belgrade</td>\n",
       "      <td>How safe is Belgrade?</td>\n",
       "      <td>Overall, Belgrade is a pretty safe city, but l...</td>\n",
       "    </tr>\n",
       "    <tr>\n",
       "      <th>52</th>\n",
       "      <td>Belgrade</td>\n",
       "      <td>What are some health tips for visiting Belgrade?</td>\n",
       "      <td>Belgrade's climate is generally temperate, so ...</td>\n",
       "    </tr>\n",
       "    <tr>\n",
       "      <th>186</th>\n",
       "      <td>Budapest</td>\n",
       "      <td>What is the history of Budapest?</td>\n",
       "      <td>The history of Budapest dates back to the Celt...</td>\n",
       "    </tr>\n",
       "    <tr>\n",
       "      <th>569</th>\n",
       "      <td>Donetsk</td>\n",
       "      <td>What are some things to see in Donetsk?</td>\n",
       "      <td>Donetsk offers a variety of attractions, inclu...</td>\n",
       "    </tr>\n",
       "    <tr>\n",
       "      <th>1562</th>\n",
       "      <td>Sarajevo</td>\n",
       "      <td>What are some things to see in Sarajevo?</td>\n",
       "      <td>Some of the top attractions in Sarajevo includ...</td>\n",
       "    </tr>\n",
       "    <tr>\n",
       "      <th>1567</th>\n",
       "      <td>Sarajevo</td>\n",
       "      <td>What are some good places to eat in Sarajevo?</td>\n",
       "      <td>Sarajevo has a wide variety of restaurants, fr...</td>\n",
       "    </tr>\n",
       "    <tr>\n",
       "      <th>1569</th>\n",
       "      <td>Sarajevo</td>\n",
       "      <td>Where can I stay in Sarajevo?</td>\n",
       "      <td>Sarajevo has a wide range of accommodation opt...</td>\n",
       "    </tr>\n",
       "    <tr>\n",
       "      <th>1570</th>\n",
       "      <td>Sarajevo</td>\n",
       "      <td>What are some good places to shop in Sarajevo?</td>\n",
       "      <td>Sarajevo has many shopping malls and markets. ...</td>\n",
       "    </tr>\n",
       "    <tr>\n",
       "      <th>1592</th>\n",
       "      <td>Rennes</td>\n",
       "      <td>What is the history of Rennes?</td>\n",
       "      <td>Its small river Vilaine was canalised and made...</td>\n",
       "    </tr>\n",
       "    <tr>\n",
       "      <th>1600</th>\n",
       "      <td>Rennes</td>\n",
       "      <td>What are the best ways to get around Rennes?</td>\n",
       "      <td>Walking is always first choice in the compact ...</td>\n",
       "    </tr>\n",
       "    <tr>\n",
       "      <th>1601</th>\n",
       "      <td>Rennes</td>\n",
       "      <td>What are some of the main attractions in Rennes?</td>\n",
       "      <td>Musée de Bretagne is a large museum of Breton ...</td>\n",
       "    </tr>\n",
       "    <tr>\n",
       "      <th>1605</th>\n",
       "      <td>Rennes</td>\n",
       "      <td>What are some of the best places to eat in Ren...</td>\n",
       "      <td>La Criée Marché Central is a large fresh-food ...</td>\n",
       "    </tr>\n",
       "    <tr>\n",
       "      <th>1655</th>\n",
       "      <td>Istanbul</td>\n",
       "      <td>What are some of the most popular districts in...</td>\n",
       "      <td>Istanbul is divided into several districts, ea...</td>\n",
       "    </tr>\n",
       "    <tr>\n",
       "      <th>1656</th>\n",
       "      <td>Istanbul</td>\n",
       "      <td>What are some of the must-see sights in Istanbul?</td>\n",
       "      <td>Istanbul is a treasure trove of historical and...</td>\n",
       "    </tr>\n",
       "    <tr>\n",
       "      <th>1657</th>\n",
       "      <td>Istanbul</td>\n",
       "      <td>What are some of the things I can do in Istanbul?</td>\n",
       "      <td>Istanbul offers a wide range of activities for...</td>\n",
       "    </tr>\n",
       "    <tr>\n",
       "      <th>1661</th>\n",
       "      <td>Istanbul</td>\n",
       "      <td>What are some tips for staying safe in Istanbul?</td>\n",
       "      <td>Istanbul is generally a safe city, but it's im...</td>\n",
       "    </tr>\n",
       "    <tr>\n",
       "      <th>1662</th>\n",
       "      <td>Istanbul</td>\n",
       "      <td>What is the best way to get around Istanbul?</td>\n",
       "      <td>Istanbul has a comprehensive public transporta...</td>\n",
       "    </tr>\n",
       "    <tr>\n",
       "      <th>1670</th>\n",
       "      <td>Istanbul</td>\n",
       "      <td>What are some of the best places to go for a r...</td>\n",
       "      <td>Istanbul offers a range of options for a relax...</td>\n",
       "    </tr>\n",
       "    <tr>\n",
       "      <th>1671</th>\n",
       "      <td>Istanbul</td>\n",
       "      <td>What are some of the things I should be aware ...</td>\n",
       "      <td>Istanbul is a vibrant and exciting city, but i...</td>\n",
       "    </tr>\n",
       "    <tr>\n",
       "      <th>3333</th>\n",
       "      <td>Samara</td>\n",
       "      <td>What are some things to see and do in Samara?</td>\n",
       "      <td>There are many things to see and do in Samara,...</td>\n",
       "    </tr>\n",
       "    <tr>\n",
       "      <th>3370</th>\n",
       "      <td>Bologna</td>\n",
       "      <td>What are some things to see in Bologna?</td>\n",
       "      <td>Bologna offers a wealth of sights, including:\\...</td>\n",
       "    </tr>\n",
       "    <tr>\n",
       "      <th>3676</th>\n",
       "      <td>Saint Petersburg</td>\n",
       "      <td>What are some of the most popular districts in...</td>\n",
       "      <td>Saint Petersburg is divided into several distr...</td>\n",
       "    </tr>\n",
       "    <tr>\n",
       "      <th>3679</th>\n",
       "      <td>Saint Petersburg</td>\n",
       "      <td>What are some of the things to do in Saint Pet...</td>\n",
       "      <td>Saint Petersburg offers a wide range of activi...</td>\n",
       "    </tr>\n",
       "    <tr>\n",
       "      <th>3832</th>\n",
       "      <td>Hamburg</td>\n",
       "      <td>What is Hamburg's history?</td>\n",
       "      <td>Hamburg was founded as a defensive castle by C...</td>\n",
       "    </tr>\n",
       "    <tr>\n",
       "      <th>3846</th>\n",
       "      <td>Helsinki</td>\n",
       "      <td>What is the best way to get to Helsinki?</td>\n",
       "      <td>Helsinki is well-connected by air, rail, road,...</td>\n",
       "    </tr>\n",
       "    <tr>\n",
       "      <th>3855</th>\n",
       "      <td>Helsinki</td>\n",
       "      <td>How can I get around Helsinki?</td>\n",
       "      <td>Helsinki has an efficient and easy-to-use publ...</td>\n",
       "    </tr>\n",
       "    <tr>\n",
       "      <th>4072</th>\n",
       "      <td>Kirov</td>\n",
       "      <td>What are some of the things to see in Kirov?</td>\n",
       "      <td>Some of the things to see in Kirov include the...</td>\n",
       "    </tr>\n",
       "    <tr>\n",
       "      <th>4073</th>\n",
       "      <td>Kirov</td>\n",
       "      <td>What are some of the things to do in Kirov?</td>\n",
       "      <td>Some of the things to do in Kirov include visi...</td>\n",
       "    </tr>\n",
       "    <tr>\n",
       "      <th>4294</th>\n",
       "      <td>Tallinn</td>\n",
       "      <td>What is the history of Tallinn?</td>\n",
       "      <td>Tallinn is a historic city dating back to medi...</td>\n",
       "    </tr>\n",
       "    <tr>\n",
       "      <th>4813</th>\n",
       "      <td>Toulouse</td>\n",
       "      <td>What are some things to see in Toulouse?</td>\n",
       "      <td>In the city centre, you can visit the Basilica...</td>\n",
       "    </tr>\n",
       "    <tr>\n",
       "      <th>4926</th>\n",
       "      <td>Munich</td>\n",
       "      <td>What are some of the historical highlights of ...</td>\n",
       "      <td>Munich has a rich history dating back to 1158....</td>\n",
       "    </tr>\n",
       "    <tr>\n",
       "      <th>4928</th>\n",
       "      <td>Munich</td>\n",
       "      <td>What are some things to do in Munich?</td>\n",
       "      <td>Munich is a city that offers a blend of cultur...</td>\n",
       "    </tr>\n",
       "    <tr>\n",
       "      <th>4932</th>\n",
       "      <td>Munich</td>\n",
       "      <td>How do I get around Munich?</td>\n",
       "      <td>Munich has an excellent public transport syste...</td>\n",
       "    </tr>\n",
       "    <tr>\n",
       "      <th>5104</th>\n",
       "      <td>Dresden</td>\n",
       "      <td>What are some places to stay in Dresden?</td>\n",
       "      <td>Dresden offers a wide range of accommodation o...</td>\n",
       "    </tr>\n",
       "  </tbody>\n",
       "</table>\n",
       "</div>"
      ],
      "text/plain": [
       "                  city                                             prompt  \\\n",
       "23            Belgrade                   What is the history of Belgrade?   \n",
       "33            Belgrade  What are the public transportation options in ...   \n",
       "35            Belgrade             What are the taxi options in Belgrade?   \n",
       "36            Belgrade    What are some of the things to see in Belgrade?   \n",
       "38            Belgrade           What are some places to eat in Belgrade?   \n",
       "48            Belgrade                              How safe is Belgrade?   \n",
       "52            Belgrade   What are some health tips for visiting Belgrade?   \n",
       "186           Budapest                   What is the history of Budapest?   \n",
       "569            Donetsk            What are some things to see in Donetsk?   \n",
       "1562          Sarajevo           What are some things to see in Sarajevo?   \n",
       "1567          Sarajevo      What are some good places to eat in Sarajevo?   \n",
       "1569          Sarajevo                      Where can I stay in Sarajevo?   \n",
       "1570          Sarajevo     What are some good places to shop in Sarajevo?   \n",
       "1592            Rennes                     What is the history of Rennes?   \n",
       "1600            Rennes       What are the best ways to get around Rennes?   \n",
       "1601            Rennes   What are some of the main attractions in Rennes?   \n",
       "1605            Rennes  What are some of the best places to eat in Ren...   \n",
       "1655          Istanbul  What are some of the most popular districts in...   \n",
       "1656          Istanbul  What are some of the must-see sights in Istanbul?   \n",
       "1657          Istanbul  What are some of the things I can do in Istanbul?   \n",
       "1661          Istanbul   What are some tips for staying safe in Istanbul?   \n",
       "1662          Istanbul       What is the best way to get around Istanbul?   \n",
       "1670          Istanbul  What are some of the best places to go for a r...   \n",
       "1671          Istanbul  What are some of the things I should be aware ...   \n",
       "3333            Samara      What are some things to see and do in Samara?   \n",
       "3370           Bologna            What are some things to see in Bologna?   \n",
       "3676  Saint Petersburg  What are some of the most popular districts in...   \n",
       "3679  Saint Petersburg  What are some of the things to do in Saint Pet...   \n",
       "3832           Hamburg                         What is Hamburg's history?   \n",
       "3846          Helsinki           What is the best way to get to Helsinki?   \n",
       "3855          Helsinki                     How can I get around Helsinki?   \n",
       "4072             Kirov       What are some of the things to see in Kirov?   \n",
       "4073             Kirov        What are some of the things to do in Kirov?   \n",
       "4294           Tallinn                    What is the history of Tallinn?   \n",
       "4813          Toulouse           What are some things to see in Toulouse?   \n",
       "4926            Munich  What are some of the historical highlights of ...   \n",
       "4928            Munich              What are some things to do in Munich?   \n",
       "4932            Munich                        How do I get around Munich?   \n",
       "5104           Dresden           What are some places to stay in Dresden?   \n",
       "\n",
       "                                                 answer  \n",
       "23    Belgrade has a long history dating back to the...  \n",
       "33    Belgrade has an extensive public transport net...  \n",
       "35    Taxis are cheap by European standards, though ...  \n",
       "36    Belgrade city core is not too big. Everything ...  \n",
       "38    Belgrade has hundreds of restaurants specializ...  \n",
       "48    Overall, Belgrade is a pretty safe city, but l...  \n",
       "52    Belgrade's climate is generally temperate, so ...  \n",
       "186   The history of Budapest dates back to the Celt...  \n",
       "569   Donetsk offers a variety of attractions, inclu...  \n",
       "1562  Some of the top attractions in Sarajevo includ...  \n",
       "1567  Sarajevo has a wide variety of restaurants, fr...  \n",
       "1569  Sarajevo has a wide range of accommodation opt...  \n",
       "1570  Sarajevo has many shopping malls and markets. ...  \n",
       "1592  Its small river Vilaine was canalised and made...  \n",
       "1600  Walking is always first choice in the compact ...  \n",
       "1601  Musée de Bretagne is a large museum of Breton ...  \n",
       "1605  La Criée Marché Central is a large fresh-food ...  \n",
       "1655  Istanbul is divided into several districts, ea...  \n",
       "1656  Istanbul is a treasure trove of historical and...  \n",
       "1657  Istanbul offers a wide range of activities for...  \n",
       "1661  Istanbul is generally a safe city, but it's im...  \n",
       "1662  Istanbul has a comprehensive public transporta...  \n",
       "1670  Istanbul offers a range of options for a relax...  \n",
       "1671  Istanbul is a vibrant and exciting city, but i...  \n",
       "3333  There are many things to see and do in Samara,...  \n",
       "3370  Bologna offers a wealth of sights, including:\\...  \n",
       "3676  Saint Petersburg is divided into several distr...  \n",
       "3679  Saint Petersburg offers a wide range of activi...  \n",
       "3832  Hamburg was founded as a defensive castle by C...  \n",
       "3846  Helsinki is well-connected by air, rail, road,...  \n",
       "3855  Helsinki has an efficient and easy-to-use publ...  \n",
       "4072  Some of the things to see in Kirov include the...  \n",
       "4073  Some of the things to do in Kirov include visi...  \n",
       "4294  Tallinn is a historic city dating back to medi...  \n",
       "4813  In the city centre, you can visit the Basilica...  \n",
       "4926  Munich has a rich history dating back to 1158....  \n",
       "4928  Munich is a city that offers a blend of cultur...  \n",
       "4932  Munich has an excellent public transport syste...  \n",
       "5104  Dresden offers a wide range of accommodation o...  "
      ]
     },
     "execution_count": 38,
     "metadata": {},
     "output_type": "execute_result"
    }
   ],
   "source": [
    "df[df['answer'].apply(len) > 1000]"
   ]
  },
  {
   "cell_type": "code",
   "execution_count": 39,
   "id": "b4268170-f701-47a8-84fa-50b04e9a76ff",
   "metadata": {
    "pycharm": {
     "name": "#%%\n"
    }
   },
   "outputs": [
    {
     "data": {
      "text/plain": [
       "('What are some good places to stay in Salzburg?', 309)"
      ]
     },
     "execution_count": 39,
     "metadata": {},
     "output_type": "execute_result"
    }
   ],
   "source": [
    "formatting_prompts_func(filtered_df)"
   ]
  },
  {
   "cell_type": "code",
   "execution_count": 41,
   "id": "70d84945-0cd5-449c-8908-57837e0c20f1",
   "metadata": {
    "pycharm": {
     "name": "#%%\n"
    }
   },
   "outputs": [],
   "source": [
    "filtered_df.to_csv(\"../../../data/europeancities-wikivoyage-tripadvisor/data-sources/wikivoyage/q_a/short_data.csv\", index=False)"
   ]
  },
  {
   "cell_type": "code",
   "execution_count": null,
   "id": "832343e7-4206-4de1-86a4-9aed7314e08e",
   "metadata": {
    "pycharm": {
     "name": "#%%\n"
    }
   },
   "outputs": [],
   "source": []
  }
 ],
 "metadata": {
  "kernelspec": {
   "display_name": ".reco-env",
   "language": "python",
   "name": ".reco-env"
  },
  "language_info": {
   "codemirror_mode": {
    "name": "ipython",
    "version": 3
   },
   "file_extension": ".py",
   "mimetype": "text/x-python",
   "name": "python",
   "nbconvert_exporter": "python",
   "pygments_lexer": "ipython3",
   "version": "3.10.13"
  }
 },
 "nbformat": 4,
 "nbformat_minor": 5
}