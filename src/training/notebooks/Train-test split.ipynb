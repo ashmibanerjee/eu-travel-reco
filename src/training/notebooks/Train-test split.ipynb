{
 "cells": [
  {
   "cell_type": "code",
   "execution_count": 1,
   "id": "e472fdd6-56b7-4173-89bd-1e5ac5db2cbf",
   "metadata": {
    "pycharm": {
     "name": "#%%\n"
    }
   },
   "outputs": [],
   "source": [
    "import pandas as pd\n",
    "from dotenv import load_dotenv"
   ]
  },
  {
   "cell_type": "code",
   "execution_count": 2,
   "id": "db4e3387-5c69-49e1-838b-c0b040f4e7d6",
   "metadata": {
    "pycharm": {
     "name": "#%%\n"
    }
   },
   "outputs": [
    {
     "data": {
      "text/plain": "True"
     },
     "execution_count": 2,
     "metadata": {},
     "output_type": "execute_result"
    }
   ],
   "source": [
    "load_dotenv()"
   ]
  },
  {
   "cell_type": "code",
   "execution_count": 3,
   "id": "7883c309-a479-47bd-b472-6c26a1808119",
   "metadata": {
    "pycharm": {
     "name": "#%%\n"
    }
   },
   "outputs": [
    {
     "name": "stdout",
     "output_type": "stream",
     "text": [
      "(5285, 3)\n"
     ]
    },
    {
     "data": {
      "text/plain": "       city                                 prompt  \\\n0  Belgrade            What is Belgrade known for?   \n1  Belgrade       What is the history of Belgrade?   \n2  Belgrade  What is the climate like in Belgrade?   \n3  Belgrade  What are the people like in Belgrade?   \n4  Belgrade    How can I get to Belgrade by plane?   \n\n                                              answer  \n0  Belgrade is known for its vibrant nightlife, h...  \n1  Belgrade has a long history dating back to the...  \n2  Belgrade has a temperate continental climate w...  \n3  Belgradians are known for their friendliness a...  \n4  Belgrade Nikola Tesla Airport (BEG) is the mai...  ",
      "text/html": "<div>\n<style scoped>\n    .dataframe tbody tr th:only-of-type {\n        vertical-align: middle;\n    }\n\n    .dataframe tbody tr th {\n        vertical-align: top;\n    }\n\n    .dataframe thead th {\n        text-align: right;\n    }\n</style>\n<table border=\"1\" class=\"dataframe\">\n  <thead>\n    <tr style=\"text-align: right;\">\n      <th></th>\n      <th>city</th>\n      <th>prompt</th>\n      <th>answer</th>\n    </tr>\n  </thead>\n  <tbody>\n    <tr>\n      <th>0</th>\n      <td>Belgrade</td>\n      <td>What is Belgrade known for?</td>\n      <td>Belgrade is known for its vibrant nightlife, h...</td>\n    </tr>\n    <tr>\n      <th>1</th>\n      <td>Belgrade</td>\n      <td>What is the history of Belgrade?</td>\n      <td>Belgrade has a long history dating back to the...</td>\n    </tr>\n    <tr>\n      <th>2</th>\n      <td>Belgrade</td>\n      <td>What is the climate like in Belgrade?</td>\n      <td>Belgrade has a temperate continental climate w...</td>\n    </tr>\n    <tr>\n      <th>3</th>\n      <td>Belgrade</td>\n      <td>What are the people like in Belgrade?</td>\n      <td>Belgradians are known for their friendliness a...</td>\n    </tr>\n    <tr>\n      <th>4</th>\n      <td>Belgrade</td>\n      <td>How can I get to Belgrade by plane?</td>\n      <td>Belgrade Nikola Tesla Airport (BEG) is the mai...</td>\n    </tr>\n  </tbody>\n</table>\n</div>"
     },
     "execution_count": 3,
     "metadata": {},
     "output_type": "execute_result"
    }
   ],
   "source": [
    "df = pd.read_csv(\"../../../data/europeancities-wikivoyage-tripadvisor/data-sources/wikivoyage/q_a/cities_qa_merged.csv\")\n",
    "print(df.shape)\n",
    "df.head()"
   ]
  },
  {
   "cell_type": "code",
   "execution_count": 13,
   "outputs": [
    {
     "name": "stdout",
     "output_type": "stream",
     "text": [
      "(4228, 3)\n"
     ]
    },
    {
     "data": {
      "text/plain": "          city                                        prompt  \\\n2740      Bari                       What is Bari known for?   \n1484  Erzincan              What is the history of Erzincan?   \n1186     Milan  How does Milan compare to Rome for tourists?   \n2766      Bari  What are some tips for staying safe in Bari?   \n5145   Kutaisi     What are some must-see sights in Kutaisi?   \n\n                                                 answer  \n2740  Bari is known for being one of the exit doors ...  \n1484  Erzincan has a rich history dating back to ant...  \n1186  Milan is considered more modern and business-o...  \n2766  Bari is generally safe, but be aware of pickpo...  \n5145  Must-see sights in Kutaisi include Bagrati Cat...  ",
      "text/html": "<div>\n<style scoped>\n    .dataframe tbody tr th:only-of-type {\n        vertical-align: middle;\n    }\n\n    .dataframe tbody tr th {\n        vertical-align: top;\n    }\n\n    .dataframe thead th {\n        text-align: right;\n    }\n</style>\n<table border=\"1\" class=\"dataframe\">\n  <thead>\n    <tr style=\"text-align: right;\">\n      <th></th>\n      <th>city</th>\n      <th>prompt</th>\n      <th>answer</th>\n    </tr>\n  </thead>\n  <tbody>\n    <tr>\n      <th>2740</th>\n      <td>Bari</td>\n      <td>What is Bari known for?</td>\n      <td>Bari is known for being one of the exit doors ...</td>\n    </tr>\n    <tr>\n      <th>1484</th>\n      <td>Erzincan</td>\n      <td>What is the history of Erzincan?</td>\n      <td>Erzincan has a rich history dating back to ant...</td>\n    </tr>\n    <tr>\n      <th>1186</th>\n      <td>Milan</td>\n      <td>How does Milan compare to Rome for tourists?</td>\n      <td>Milan is considered more modern and business-o...</td>\n    </tr>\n    <tr>\n      <th>2766</th>\n      <td>Bari</td>\n      <td>What are some tips for staying safe in Bari?</td>\n      <td>Bari is generally safe, but be aware of pickpo...</td>\n    </tr>\n    <tr>\n      <th>5145</th>\n      <td>Kutaisi</td>\n      <td>What are some must-see sights in Kutaisi?</td>\n      <td>Must-see sights in Kutaisi include Bagrati Cat...</td>\n    </tr>\n  </tbody>\n</table>\n</div>"
     },
     "execution_count": 13,
     "metadata": {},
     "output_type": "execute_result"
    }
   ],
   "source": [
    "train = df.sample(frac=0.8)\n",
    "train.to_csv(\"../../../data/europeancities-wikivoyage-tripadvisor/data-sources/wikivoyage/q_a/train_80.csv\", index=False)\n",
    "print(train.shape)\n",
    "train.head()"
   ],
   "metadata": {
    "collapsed": false,
    "pycharm": {
     "name": "#%%\n"
    }
   }
  },
  {
   "cell_type": "code",
   "execution_count": 14,
   "id": "70d84945-0cd5-449c-8908-57837e0c20f1",
   "metadata": {
    "pycharm": {
     "name": "#%%\n"
    }
   },
   "outputs": [
    {
     "name": "stdout",
     "output_type": "stream",
     "text": [
      "(1057, 3)\n"
     ]
    }
   ],
   "source": [
    "test = df.loc[~df.index.isin(train.index)]\n",
    "print(test.shape)\n",
    "test.to_csv(\"../../../data/europeancities-wikivoyage-tripadvisor/data-sources/wikivoyage/q_a/test_20.csv\", index=False)"
   ]
  },
  {
   "cell_type": "code",
   "execution_count": 15,
   "id": "832343e7-4206-4de1-86a4-9aed7314e08e",
   "metadata": {
    "pycharm": {
     "name": "#%%\n"
    }
   },
   "outputs": [
    {
     "data": {
      "text/plain": "        city                                         prompt  \\\n1   Belgrade               What is the history of Belgrade?   \n6   Belgrade              How can I get to Belgrade by bus?   \n9   Belgrade   What is the best way to get around Belgrade?   \n12  Belgrade        What are some things to do in Belgrade?   \n13  Belgrade  What are some good places to eat in Belgrade?   \n\n                                               answer  \n1   Belgrade has a long history dating back to the...  \n6   Belgrade Bus Station (BAS) is the main bus ter...  \n9   Public transport is extensive and affordable, ...  \n12  You can visit Ada Ciganlija (a river island wi...  \n13  Belgrade offers a wide range of dining options...  ",
      "text/html": "<div>\n<style scoped>\n    .dataframe tbody tr th:only-of-type {\n        vertical-align: middle;\n    }\n\n    .dataframe tbody tr th {\n        vertical-align: top;\n    }\n\n    .dataframe thead th {\n        text-align: right;\n    }\n</style>\n<table border=\"1\" class=\"dataframe\">\n  <thead>\n    <tr style=\"text-align: right;\">\n      <th></th>\n      <th>city</th>\n      <th>prompt</th>\n      <th>answer</th>\n    </tr>\n  </thead>\n  <tbody>\n    <tr>\n      <th>1</th>\n      <td>Belgrade</td>\n      <td>What is the history of Belgrade?</td>\n      <td>Belgrade has a long history dating back to the...</td>\n    </tr>\n    <tr>\n      <th>6</th>\n      <td>Belgrade</td>\n      <td>How can I get to Belgrade by bus?</td>\n      <td>Belgrade Bus Station (BAS) is the main bus ter...</td>\n    </tr>\n    <tr>\n      <th>9</th>\n      <td>Belgrade</td>\n      <td>What is the best way to get around Belgrade?</td>\n      <td>Public transport is extensive and affordable, ...</td>\n    </tr>\n    <tr>\n      <th>12</th>\n      <td>Belgrade</td>\n      <td>What are some things to do in Belgrade?</td>\n      <td>You can visit Ada Ciganlija (a river island wi...</td>\n    </tr>\n    <tr>\n      <th>13</th>\n      <td>Belgrade</td>\n      <td>What are some good places to eat in Belgrade?</td>\n      <td>Belgrade offers a wide range of dining options...</td>\n    </tr>\n  </tbody>\n</table>\n</div>"
     },
     "execution_count": 15,
     "metadata": {},
     "output_type": "execute_result"
    }
   ],
   "source": [
    "test.head()"
   ]
  },
  {
   "cell_type": "code",
   "execution_count": 19,
   "outputs": [
    {
     "data": {
      "text/plain": "158"
     },
     "execution_count": 19,
     "metadata": {},
     "output_type": "execute_result"
    }
   ],
   "source": [
    "len(test.city.unique().tolist())"
   ],
   "metadata": {
    "collapsed": false,
    "pycharm": {
     "name": "#%%\n"
    }
   }
  },
  {
   "cell_type": "code",
   "execution_count": 20,
   "outputs": [
    {
     "data": {
      "text/plain": "159"
     },
     "execution_count": 20,
     "metadata": {},
     "output_type": "execute_result"
    }
   ],
   "source": [
    "len(train.city.unique().tolist())"
   ],
   "metadata": {
    "collapsed": false,
    "pycharm": {
     "name": "#%%\n"
    }
   }
  },
  {
   "cell_type": "code",
   "execution_count": 21,
   "outputs": [
    {
     "data": {
      "text/plain": "city\nBudapest        77\nAdana           76\nSantander       69\nDresden         65\nStockholm       48\n                ..\nOradea          15\nThessaloniki    15\nMilan           14\nDublin          14\nGeneva          13\nName: count, Length: 159, dtype: int64"
     },
     "execution_count": 21,
     "metadata": {},
     "output_type": "execute_result"
    }
   ],
   "source": [
    "train.city.value_counts()"
   ],
   "metadata": {
    "collapsed": false,
    "pycharm": {
     "name": "#%%\n"
    }
   }
  },
  {
   "cell_type": "code",
   "execution_count": 22,
   "outputs": [
    {
     "data": {
      "text/plain": "city\nSantander    18\nBudapest     16\nBordeaux     15\nMiskolc      13\nParis        13\n             ..\nMagdeburg     2\nDublin        2\nPrague        2\nGaziantep     2\nCagliari      2\nName: count, Length: 158, dtype: int64"
     },
     "execution_count": 22,
     "metadata": {},
     "output_type": "execute_result"
    }
   ],
   "source": [
    "test.city.value_counts()"
   ],
   "metadata": {
    "collapsed": false,
    "pycharm": {
     "name": "#%%\n"
    }
   }
  },
  {
   "cell_type": "code",
   "execution_count": null,
   "outputs": [],
   "source": [],
   "metadata": {
    "collapsed": false,
    "pycharm": {
     "name": "#%%\n"
    }
   }
  }
 ],
 "metadata": {
  "kernelspec": {
   "display_name": ".reco-env",
   "language": "python",
   "name": ".reco-env"
  },
  "language_info": {
   "codemirror_mode": {
    "name": "ipython",
    "version": 3
   },
   "file_extension": ".py",
   "mimetype": "text/x-python",
   "name": "python",
   "nbconvert_exporter": "python",
   "pygments_lexer": "ipython3",
   "version": "3.10.13"
  }
 },
 "nbformat": 4,
 "nbformat_minor": 5
}