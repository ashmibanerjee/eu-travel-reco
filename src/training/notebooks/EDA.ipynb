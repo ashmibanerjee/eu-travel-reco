{
 "cells": [
  {
   "cell_type": "code",
   "execution_count": 1,
   "id": "dc1b0b8d",
   "metadata": {},
   "outputs": [],
   "source": [
    "import pandas as pd\n"
   ]
  },
  {
   "cell_type": "code",
   "execution_count": 17,
   "id": "a122d3e5",
   "metadata": {},
   "outputs": [
    {
     "name": "stdout",
     "output_type": "stream",
     "text": [
      "(5285, 3)\n"
     ]
    },
    {
     "data": {
      "text/html": [
       "<div>\n",
       "<style scoped>\n",
       "    .dataframe tbody tr th:only-of-type {\n",
       "        vertical-align: middle;\n",
       "    }\n",
       "\n",
       "    .dataframe tbody tr th {\n",
       "        vertical-align: top;\n",
       "    }\n",
       "\n",
       "    .dataframe thead th {\n",
       "        text-align: right;\n",
       "    }\n",
       "</style>\n",
       "<table border=\"1\" class=\"dataframe\">\n",
       "  <thead>\n",
       "    <tr style=\"text-align: right;\">\n",
       "      <th></th>\n",
       "      <th>city</th>\n",
       "      <th>prompt</th>\n",
       "      <th>answer</th>\n",
       "    </tr>\n",
       "  </thead>\n",
       "  <tbody>\n",
       "    <tr>\n",
       "      <th>0</th>\n",
       "      <td>Belgrade</td>\n",
       "      <td>What is Belgrade known for?</td>\n",
       "      <td>Belgrade is known for its vibrant nightlife, h...</td>\n",
       "    </tr>\n",
       "    <tr>\n",
       "      <th>1</th>\n",
       "      <td>Belgrade</td>\n",
       "      <td>What is the history of Belgrade?</td>\n",
       "      <td>Belgrade has a long history dating back to the...</td>\n",
       "    </tr>\n",
       "    <tr>\n",
       "      <th>2</th>\n",
       "      <td>Belgrade</td>\n",
       "      <td>What is the climate like in Belgrade?</td>\n",
       "      <td>Belgrade has a temperate continental climate w...</td>\n",
       "    </tr>\n",
       "    <tr>\n",
       "      <th>3</th>\n",
       "      <td>Belgrade</td>\n",
       "      <td>What are the people like in Belgrade?</td>\n",
       "      <td>Belgradians are known for their friendliness a...</td>\n",
       "    </tr>\n",
       "    <tr>\n",
       "      <th>4</th>\n",
       "      <td>Belgrade</td>\n",
       "      <td>How can I get to Belgrade by plane?</td>\n",
       "      <td>Belgrade Nikola Tesla Airport (BEG) is the mai...</td>\n",
       "    </tr>\n",
       "  </tbody>\n",
       "</table>\n",
       "</div>"
      ],
      "text/plain": [
       "       city                                 prompt  \\\n",
       "0  Belgrade            What is Belgrade known for?   \n",
       "1  Belgrade       What is the history of Belgrade?   \n",
       "2  Belgrade  What is the climate like in Belgrade?   \n",
       "3  Belgrade  What are the people like in Belgrade?   \n",
       "4  Belgrade    How can I get to Belgrade by plane?   \n",
       "\n",
       "                                              answer  \n",
       "0  Belgrade is known for its vibrant nightlife, h...  \n",
       "1  Belgrade has a long history dating back to the...  \n",
       "2  Belgrade has a temperate continental climate w...  \n",
       "3  Belgradians are known for their friendliness a...  \n",
       "4  Belgrade Nikola Tesla Airport (BEG) is the mai...  "
      ]
     },
     "execution_count": 17,
     "metadata": {},
     "output_type": "execute_result"
    }
   ],
   "source": [
    "df = pd.read_csv(\"../data/europeancities-wikivoyage-tripadvisor/wikivoyage/q_a/cities_qa_merged.csv\")\n",
    "print(df.shape)\n",
    "df.head()"
   ]
  },
  {
   "cell_type": "code",
   "execution_count": 18,
   "id": "38c92e4b",
   "metadata": {},
   "outputs": [
    {
     "data": {
      "text/plain": [
       "159"
      ]
     },
     "execution_count": 18,
     "metadata": {},
     "output_type": "execute_result"
    }
   ],
   "source": [
    "len(df.city.unique())"
   ]
  },
  {
   "cell_type": "code",
   "execution_count": 19,
   "id": "86e506bb",
   "metadata": {},
   "outputs": [
    {
     "data": {
      "text/plain": [
       "city\n",
       "Budapest        93\n",
       "Adana           88\n",
       "Santander       87\n",
       "Dresden         69\n",
       "Bordeaux        62\n",
       "                ..\n",
       "Kutaisi         21\n",
       "Nevşehir        20\n",
       "Thessaloniki    20\n",
       "Milan           19\n",
       "Dublin          16\n",
       "Name: count, Length: 159, dtype: int64"
      ]
     },
     "execution_count": 19,
     "metadata": {},
     "output_type": "execute_result"
    }
   ],
   "source": [
    "df.city.value_counts()"
   ]
  },
  {
   "cell_type": "code",
   "execution_count": null,
   "id": "193f167b",
   "metadata": {},
   "outputs": [],
   "source": []
  }
 ],
 "metadata": {
  "kernelspec": {
   "display_name": ".reco-env",
   "language": "python",
   "name": ".reco-env"
  },
  "language_info": {
   "codemirror_mode": {
    "name": "ipython",
    "version": 3
   },
   "file_extension": ".py",
   "mimetype": "text/x-python",
   "name": "python",
   "nbconvert_exporter": "python",
   "pygments_lexer": "ipython3",
   "version": "3.10.13"
  }
 },
 "nbformat": 4,
 "nbformat_minor": 5
}
